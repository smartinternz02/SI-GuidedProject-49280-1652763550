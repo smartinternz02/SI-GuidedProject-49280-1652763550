{
 "cells": [
  {
   "cell_type": "code",
   "execution_count": 1,
   "id": "c6a329f9",
   "metadata": {
    "scrolled": true
   },
   "outputs": [
    {
     "name": "stdout",
     "output_type": "stream",
     "text": [
      "Requirement already satisfied: watson-machine-learning-client in c:\\users\\shekh\\anaconda3\\envs\\forest\\lib\\site-packages (1.0.391)\n",
      "Requirement already satisfied: pandas in c:\\users\\shekh\\anaconda3\\envs\\forest\\lib\\site-packages (from watson-machine-learning-client) (1.3.5)\n",
      "Requirement already satisfied: boto3 in c:\\users\\shekh\\anaconda3\\envs\\forest\\lib\\site-packages (from watson-machine-learning-client) (1.24.1)\n",
      "Requirement already satisfied: lomond in c:\\users\\shekh\\anaconda3\\envs\\forest\\lib\\site-packages (from watson-machine-learning-client) (0.3.3)\n",
      "Requirement already satisfied: ibm-cos-sdk in c:\\users\\shekh\\anaconda3\\envs\\forest\\lib\\site-packages (from watson-machine-learning-client) (2.7.0)\n",
      "Requirement already satisfied: tqdm in c:\\users\\shekh\\anaconda3\\envs\\forest\\lib\\site-packages (from watson-machine-learning-client) (4.64.0)\n",
      "Requirement already satisfied: urllib3 in c:\\users\\shekh\\anaconda3\\envs\\forest\\lib\\site-packages (from watson-machine-learning-client) (1.26.9)\n",
      "Requirement already satisfied: tabulate in c:\\users\\shekh\\anaconda3\\envs\\forest\\lib\\site-packages (from watson-machine-learning-client) (0.8.9)\n",
      "Requirement already satisfied: requests in c:\\users\\shekh\\anaconda3\\envs\\forest\\lib\\site-packages (from watson-machine-learning-client) (2.27.1)\n",
      "Requirement already satisfied: certifi in c:\\users\\shekh\\anaconda3\\envs\\forest\\lib\\site-packages (from watson-machine-learning-client) (2021.10.8)\n",
      "Requirement already satisfied: jmespath<2.0.0,>=0.7.1 in c:\\users\\shekh\\anaconda3\\envs\\forest\\lib\\site-packages (from boto3->watson-machine-learning-client) (0.10.0)\n",
      "Requirement already satisfied: s3transfer<0.7.0,>=0.6.0 in c:\\users\\shekh\\anaconda3\\envs\\forest\\lib\\site-packages (from boto3->watson-machine-learning-client) (0.6.0)\n",
      "Requirement already satisfied: botocore<1.28.0,>=1.27.1 in c:\\users\\shekh\\anaconda3\\envs\\forest\\lib\\site-packages (from boto3->watson-machine-learning-client) (1.27.1)\n",
      "Requirement already satisfied: python-dateutil<3.0.0,>=2.1 in c:\\users\\shekh\\anaconda3\\envs\\forest\\lib\\site-packages (from botocore<1.28.0,>=1.27.1->boto3->watson-machine-learning-client) (2.8.2)\n",
      "Requirement already satisfied: six>=1.5 in c:\\users\\shekh\\anaconda3\\envs\\forest\\lib\\site-packages (from python-dateutil<3.0.0,>=2.1->botocore<1.28.0,>=1.27.1->boto3->watson-machine-learning-client) (1.15.0)\n",
      "Requirement already satisfied: ibm-cos-sdk-core==2.7.0 in c:\\users\\shekh\\anaconda3\\envs\\forest\\lib\\site-packages (from ibm-cos-sdk->watson-machine-learning-client) (2.7.0)\n",
      "Requirement already satisfied: ibm-cos-sdk-s3transfer==2.7.0 in c:\\users\\shekh\\anaconda3\\envs\\forest\\lib\\site-packages (from ibm-cos-sdk->watson-machine-learning-client) (2.7.0)\n",
      "Requirement already satisfied: docutils<0.16,>=0.10 in c:\\users\\shekh\\anaconda3\\envs\\forest\\lib\\site-packages (from ibm-cos-sdk-core==2.7.0->ibm-cos-sdk->watson-machine-learning-client) (0.15.2)\n",
      "Requirement already satisfied: idna<4,>=2.5 in c:\\users\\shekh\\anaconda3\\envs\\forest\\lib\\site-packages (from requests->watson-machine-learning-client) (3.3)\n",
      "Requirement already satisfied: charset-normalizer~=2.0.0 in c:\\users\\shekh\\anaconda3\\envs\\forest\\lib\\site-packages (from requests->watson-machine-learning-client) (2.0.12)\n",
      "Requirement already satisfied: numpy>=1.17.3 in c:\\users\\shekh\\anaconda3\\envs\\forest\\lib\\site-packages (from pandas->watson-machine-learning-client) (1.19.5)\n",
      "Requirement already satisfied: pytz>=2017.3 in c:\\users\\shekh\\anaconda3\\envs\\forest\\lib\\site-packages (from pandas->watson-machine-learning-client) (2022.1)\n",
      "Requirement already satisfied: colorama in c:\\users\\shekh\\anaconda3\\envs\\forest\\lib\\site-packages (from tqdm->watson-machine-learning-client) (0.4.4)\n"
     ]
    }
   ],
   "source": [
    "!pip install watson-machine-learning-client"
   ]
  },
  {
   "cell_type": "code",
   "execution_count": 2,
   "id": "a23afc4f",
   "metadata": {},
   "outputs": [
    {
     "name": "stdout",
     "output_type": "stream",
     "text": [
      "Python 3.7 and 3.8 frameworks are deprecated and will be removed in a future release. Use Python 3.9 framework instead.\n"
     ]
    }
   ],
   "source": [
    "from ibm_watson_machine_learning import APIClient\n",
    "wml_credentials= {\n",
    "    \"url\": \"https://us-south.ml.cloud.ibm.com\",\n",
    "    \"apikey\":\"9gsp3sMazuRfe8UsjUSUtPhXMGK_CL_FvmHWg4mtrNC4\"\n",
    "}\n",
    "client = APIClient(wml_credentials)\n",
    "\n",
    "#9gsp3sMazuRfe8UsjUSUtPhXMGK_CL_FvmHWg4mtrNC4"
   ]
  },
  {
   "cell_type": "code",
   "execution_count": 3,
   "id": "55a93b83",
   "metadata": {},
   "outputs": [],
   "source": [
    "def guid_from_space_name(client,space_name):\n",
    "    space = client.spaces.get_details()\n",
    "    return(next(item for item in space['resources'] if item['entity'][\"name\"] == space_name)['metadata']['id'])"
   ]
  },
  {
   "cell_type": "code",
   "execution_count": 4,
   "id": "f3a1c8a6",
   "metadata": {},
   "outputs": [
    {
     "name": "stdout",
     "output_type": "stream",
     "text": [
      "Space UID =a1d7a045-d7da-4eb3-8f12-b12cbf1507a3\n"
     ]
    }
   ],
   "source": [
    "space_uid = guid_from_space_name(client,'Forest-fires')\n",
    "print(\"Space UID =\" +space_uid)"
   ]
  },
  {
   "cell_type": "code",
   "execution_count": 5,
   "id": "63791777",
   "metadata": {},
   "outputs": [
    {
     "data": {
      "text/plain": [
       "'SUCCESS'"
      ]
     },
     "execution_count": 5,
     "metadata": {},
     "output_type": "execute_result"
    }
   ],
   "source": [
    "client.set.default_space(space_uid)"
   ]
  },
  {
   "cell_type": "code",
   "execution_count": 6,
   "id": "7829ebd7",
   "metadata": {},
   "outputs": [
    {
     "name": "stdout",
     "output_type": "stream",
     "text": [
      "Successfully saved model content to file: 'IBM_Emerging_forest_fire_detection.tar.gz'\n"
     ]
    },
    {
     "data": {
      "text/plain": [
       "'C:\\\\Users\\\\shekh\\\\OneDrive\\\\Desktop\\\\Smart Externship\\\\Project\\\\sir\\\\Detecting-Forest-Combustion-in-Forests-main\\\\Training/IBM_Emerging_forest_fire_detection.tar.gz'"
      ]
     },
     "execution_count": 6,
     "metadata": {},
     "output_type": "execute_result"
    }
   ],
   "source": [
    "client.repository.download('d18254cf-ec4a-47a5-a90c-f803b23e50bb', 'IBM_Emerging_forest_fire_detection.tar.gz')"
   ]
  }
 ],
 "metadata": {
  "kernelspec": {
   "display_name": "Python 3 (ipykernel)",
   "language": "python",
   "name": "python3"
  },
  "language_info": {
   "codemirror_mode": {
    "name": "ipython",
    "version": 3
   },
   "file_extension": ".py",
   "mimetype": "text/x-python",
   "name": "python",
   "nbconvert_exporter": "python",
   "pygments_lexer": "ipython3",
   "version": "3.8.5"
  }
 },
 "nbformat": 4,
 "nbformat_minor": 5
}
